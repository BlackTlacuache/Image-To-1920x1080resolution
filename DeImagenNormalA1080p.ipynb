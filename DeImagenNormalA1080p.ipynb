{
 "cells": [
  {
   "cell_type": "code",
   "execution_count": 1,
   "id": "da857df3-1b74-49f9-95e8-e341e486a0fd",
   "metadata": {},
   "outputs": [],
   "source": [
    "import cv2\n",
    "import os\n",
    "import numpy as np\n",
    "import matplotlib.pyplot as plt"
   ]
  },
  {
   "cell_type": "code",
   "execution_count": 2,
   "id": "fbac9701-b116-4ab0-bf09-975ee0dbbb03",
   "metadata": {},
   "outputs": [],
   "source": [
    "def resize(image, width=None, height=None, inter=cv2.INTER_AREA):\n",
    "    \"\"\"\n",
    "    Función que cambia el tamaño de una imagen preservando la relación de aspecto.\n",
    "    :param image: Imagen a ser alterada.\n",
    "    :param width: Ancho objetivo (opcional).\n",
    "    :param height: Altura objetivo (opcional).\n",
    "    :param inter: Método de interpolación (por defecto: cv2.INTER_AREA)\n",
    "    :return: Imagen redimensionada. Se le da prioridad a *height*, por lo que si se especifican tanto *width*\n",
    "             como *height*, *width* será ignorado.\n",
    "    \"\"\"\n",
    "    # Extraemos las dimensiones originales.\n",
    "    (original_height, original_width) = image.shape[:2]\n",
    "\n",
    "    # Si no se especifica al menos uno de los parámetros, no tenemos nada que hacer aparte de retornar.\n",
    "    if width is None and height is None:\n",
    "        return image\n",
    "\n",
    "    # Si el nuevo ancho es vacío (*width*), calcularemos la relación de aspecto con base a la nueva altura (*height*)\n",
    "    if width is None:\n",
    "        # Proporción para mantener la relación de aspecto con base a la nueva altura.\n",
    "        ratio = height / float(original_height)\n",
    "\n",
    "        # Nueva anchura\n",
    "        width = int(original_width * ratio)\n",
    "    else:\n",
    "        # Proporción para mantener la relación de aspecto con base a la nueva anchura.\n",
    "        ratio = width / float(original_width)\n",
    "\n",
    "        # Nueva altura\n",
    "        height = int(original_height * ratio)\n",
    "\n",
    "    # El nuevo tamaño de la imagen no será más que un par compuesta por la nueva anchura y la nueva altura.\n",
    "    new_size = (width, height)\n",
    "\n",
    "    # Usamos la función cv2.resize() para llevar a cabo el cambio de tamaño de la imagen; finalmente retornamos el\n",
    "    # resultado.\n",
    "    return cv2.resize(image, new_size, interpolation=inter)"
   ]
  },
  {
   "cell_type": "code",
   "execution_count": 15,
   "id": "cc42785e-0eb8-4891-b696-c1eb6fa616a8",
   "metadata": {},
   "outputs": [
    {
     "name": "stdout",
     "output_type": "stream",
     "text": [
      "Ya existe la carpeta\n"
     ]
    }
   ],
   "source": [
    "ruta = '/home/ci4n/Imágenes/anarchistposters/'\n",
    "contador = os.listdir(ruta)\n",
    "output = os.path.join(ruta, 'OUT')\n",
    "if os.path.exists(output):\n",
    "    print('Ya existe la carpeta')\n",
    "else:\n",
    "    os.mkdir(output)"
   ]
  },
  {
   "cell_type": "code",
   "execution_count": 4,
   "id": "7fba869a-ee9a-456a-bf09-2274beaed64f",
   "metadata": {},
   "outputs": [],
   "source": [
    "# path1 = Image_of_example\n",
    "# img1 = cv2.imread(path1)\n",
    "#This cvt color change is just for the matplotlib show function\n",
    "# img1 = cv2.cvtColor(img1, cv2.COLOR_BGR2RGB)"
   ]
  },
  {
   "cell_type": "code",
   "execution_count": 5,
   "id": "baba4e18-face-4dbf-a48e-e69f1224efdd",
   "metadata": {},
   "outputs": [],
   "source": [
    "# Original resolution\n",
    "# plt.xticks([]), plt.yticks([])\n",
    "# plt.imshow(img1)\n",
    "# plt.show()\n",
    "# img1.shape[:2]"
   ]
  },
  {
   "cell_type": "code",
   "execution_count": 6,
   "id": "f2f81c34-19e5-4a1e-b77b-5a8a768d0753",
   "metadata": {},
   "outputs": [],
   "source": [
    "# Modify the height keeping the ratio\n",
    "# resized = resize(img1, height=1080)\n",
    "# resized.shape[:2]"
   ]
  },
  {
   "cell_type": "code",
   "execution_count": 7,
   "id": "98229d54-f6bc-41ed-9ddd-71536cf4079a",
   "metadata": {},
   "outputs": [],
   "source": [
    "# Add the borders to complete the 1920x1080 resolution\n",
    "# If the picture is lager than 1920 see below in the last for bucle\n",
    "# x = int((1920 - resized.shape[:2][1])/2)\n",
    "# Border color\n",
    "# color = [0, 0, 0]\n",
    "# borderoutput = cv2.copyMakeBorder(\n",
    "#                 resized, \n",
    "#                 0, #Arriba\n",
    "#                 0, #Abajo\n",
    "#                 x, #Izquierda\n",
    "#                 x, #Derecha\n",
    "#                 cv2.BORDER_CONSTANT, value=color\n",
    "#             )\n",
    "# plt.imshow(borderoutput)\n",
    "# plt.show()\n",
    "# borderoutput.shape[:2]"
   ]
  },
  {
   "cell_type": "code",
   "execution_count": 16,
   "id": "bb3e5e8c-5f0c-4c65-a5ee-ffe22da45455",
   "metadata": {},
   "outputs": [
    {
     "name": "stdout",
     "output_type": "stream",
     "text": [
      "OUT It's not a image xD\n",
      "anarchistposters7.mp4 It's not a image xD\n",
      "anarchistposters806.mp4 It's not a image xD\n"
     ]
    }
   ],
   "source": [
    "# For a lot of images you can do it with this\n",
    "for i in contador:\n",
    "    try:\n",
    "        nombre = ruta + i\n",
    "        filename = os.path.join(output, i)\n",
    "        img = cv2.imread(nombre)\n",
    "        resized = resize(img, height=1080)\n",
    "        #cv2.imwrite(output, resized)\n",
    "        x = int((1920 - resized.shape[:2][1])/2)\n",
    "        color = [0, 0, 0]\n",
    "        if resized.shape[:2][1] > 1920:\n",
    "            img = resize(resized, width=1920)\n",
    "            y = int((1080 - resized.shape[:2][0])/2)\n",
    "            borderoutput = cv2.copyMakeBorder(\n",
    "            resized, \n",
    "            y, #Arriba\n",
    "            y, #Abajo\n",
    "            0, #Izquierda\n",
    "            0, #Derecha\n",
    "            cv2.BORDER_CONSTANT, value=color\n",
    "            )\n",
    "        else:\n",
    "            borderoutput = cv2.copyMakeBorder(\n",
    "                resized, \n",
    "                0, #Arriba\n",
    "                0, #Abajo\n",
    "                x, #Izquierda\n",
    "                x, #Derecha\n",
    "                cv2.BORDER_CONSTANT, value=color\n",
    "            )\n",
    "        cv2.imwrite(filename, borderoutput)\n",
    "    except:\n",
    "        print(i,'It\\'s not a image xD')"
   ]
  },
  {
   "cell_type": "code",
   "execution_count": null,
   "id": "0cc4e48c",
   "metadata": {},
   "outputs": [],
   "source": []
  }
 ],
 "metadata": {
  "kernelspec": {
   "display_name": "Python 3 (ipykernel)",
   "language": "python",
   "name": "python3"
  },
  "language_info": {
   "codemirror_mode": {
    "name": "ipython",
    "version": 3
   },
   "file_extension": ".py",
   "mimetype": "text/x-python",
   "name": "python",
   "nbconvert_exporter": "python",
   "pygments_lexer": "ipython3",
   "version": "3.10.7"
  }
 },
 "nbformat": 4,
 "nbformat_minor": 5
}
